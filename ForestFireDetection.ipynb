{
  "nbformat": 4,
  "nbformat_minor": 0,
  "metadata": {
    "colab": {
      "private_outputs": true,
      "provenance": []
    },
    "kernelspec": {
      "name": "python3",
      "display_name": "Python 3"
    },
    "language_info": {
      "name": "python"
    }
  },
  "cells": [
    {
      "cell_type": "code",
      "execution_count": null,
      "metadata": {
        "id": "EchfWeTRxtjY"
      },
      "outputs": [],
      "source": [
        "\n",
        "import kagglehub\n",
        "\n",
        "# Download latest version\n",
        "path = kagglehub.dataset_download(\"elmadafri/the-wildfire-dataset\")\n",
        "\n",
        "print(\"Path to dataset files:\", path)"
      ]
    },
    {
      "cell_type": "code",
      "source": [
        "# Importing necessary libraries\n",
        "import os\n",
        "import numpy as np\n",
        "import matplotlib.pyplot as plt\n",
        "import tensorflow as tf\n",
        "from tensorflow.keras.preprocessing.image import ImageDataGenerator\n",
        "from tensorflow.keras.models import Sequential\n",
        "from tensorflow.keras.layers import Conv2D, MaxPooling2D, Flatten, Dense, Dropout, Input"
      ],
      "metadata": {
        "id": "WWJAQwq-yr4T"
      },
      "execution_count": null,
      "outputs": []
    },
    {
      "cell_type": "code",
      "source": [
        "# TO ensure the GPU is present\n",
        "physical_devices = tf.config.experimental.list_physical_devices('GPU')\n",
        "if len(physical_devices) > 0:\n",
        "  tf.config.experimental.set_memory_growth(physical_devices[0], True)\n",
        "  print('GPU is Available!')\n",
        "else:\n",
        "  print('GPU is Unavailable!')"
      ],
      "metadata": {
        "id": "qN3U-cspzHAY"
      },
      "execution_count": null,
      "outputs": []
    },
    {
      "cell_type": "code",
      "source": [
        "# Load and explore the dataset\n",
        "train_dir = '/root/.cache/kagglehub/datasets/elmadafri/the-wildfire-dataset/versions/3/the_wildfire_dataset_2n_version/train'\n",
        "val_dir = '/root/.cache/kagglehub/datasets/elmadafri/the-wildfire-dataset/versions/3/the_wildfire_dataset_2n_version/val'\n",
        "test_dir = '/root/.cache/kagglehub/datasets/elmadafri/the-wildfire-dataset/versions/3/the_wildfire_dataset_2n_version/test'"
      ],
      "metadata": {
        "id": "jdjYc8szzKjp"
      },
      "execution_count": null,
      "outputs": []
    },
    {
      "cell_type": "code",
      "source": [
        "# List all the classes\n",
        "classes = os.listdir(train_dir)\n",
        "num_classes = len(classes)\n",
        "\n",
        "# Display the class names\n",
        "print(f'Number of Classes: {num_classes}')\n",
        "print(f'Classes: {classes}')"
      ],
      "metadata": {
        "id": "K66_fExvzf85"
      },
      "execution_count": null,
      "outputs": []
    },
    {
      "cell_type": "code",
      "source": [
        "# Let's visualize the images in the dataset\n",
        "plt.figure(figsize=(12, 10))\n",
        "for i in range(5):\n",
        "  class_path = os.path.join(train_dir, classes[0])\n",
        "  img_name = os.listdir(class_path)[i]\n",
        "  img_path = os.path.join(class_path, img_name)\n",
        "  img = plt.imread(img_path)\n",
        "\n",
        "  plt.subplot(1, 5, i+1)\n",
        "  plt.imshow(img)\n",
        "  plt.title(f'{classes[0]} \\n shape: {img.shape}')\n",
        "  plt.axis('off')\n",
        "plt.show()"
      ],
      "metadata": {
        "id": "XrJ3HPH5zlog"
      },
      "execution_count": null,
      "outputs": []
    },
    {
      "cell_type": "code",
      "source": [
        "plt.figure(figsize=(12, 10))\n",
        "for i in range(5):\n",
        "  class_path = os.path.join(train_dir, classes[1])\n",
        "  img_name = os.listdir(class_path)[i]\n",
        "  img_path = os.path.join(class_path, img_name)\n",
        "  img = plt.imread(img_path)\n",
        "\n",
        "  plt.subplot(1, 5, i+1)\n",
        "  plt.imshow(img)\n",
        "  plt.title(f'{classes[1]} \\n shape: {img.shape}')\n",
        "  plt.axis('off')\n",
        "plt.show()"
      ],
      "metadata": {
        "id": "vU9OHoikzuCo"
      },
      "execution_count": null,
      "outputs": []
    }
  ]
}